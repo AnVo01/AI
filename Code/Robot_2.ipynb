{
  "nbformat": 4,
  "nbformat_minor": 0,
  "metadata": {
    "colab": {
      "name": "Robot_2.ipynb",
      "provenance": [],
      "collapsed_sections": [],
      "authorship_tag": "ABX9TyPLPlkKAc+Mz9KZIv++3Gkd",
      "include_colab_link": true
    },
    "kernelspec": {
      "name": "python3",
      "display_name": "Python 3"
    },
    "language_info": {
      "name": "python"
    }
  },
  "cells": [
    {
      "cell_type": "markdown",
      "metadata": {
        "id": "view-in-github",
        "colab_type": "text"
      },
      "source": [
        "<a href=\"https://colab.research.google.com/github/AnVo01/AI/blob/AI/Robot_2.ipynb\" target=\"_parent\"><img src=\"https://colab.research.google.com/assets/colab-badge.svg\" alt=\"Open In Colab\"/></a>"
      ]
    },
    {
      "cell_type": "code",
      "execution_count": 16,
      "metadata": {
        "colab": {
          "base_uri": "https://localhost:8080/"
        },
        "id": "2Nr6fZhr-rz1",
        "outputId": "6202dc9f-90a4-4d65-dd4d-c9a1b1ebfc9c"
      },
      "outputs": [
        {
          "output_type": "stream",
          "name": "stdout",
          "text": [
            "Epoch 1/10\n",
            "365/365 [==============================] - 3s 6ms/step - loss: 1.4394 - accuracy: 0.7483 - val_loss: 1.1517 - val_accuracy: 0.7412\n",
            "Epoch 2/10\n",
            "365/365 [==============================] - 2s 6ms/step - loss: 1.1354 - accuracy: 0.7580 - val_loss: 1.2591 - val_accuracy: 0.7494\n",
            "Epoch 3/10\n",
            "365/365 [==============================] - 2s 6ms/step - loss: 1.1013 - accuracy: 0.7595 - val_loss: 1.0660 - val_accuracy: 0.7589\n",
            "Epoch 4/10\n",
            "365/365 [==============================] - 2s 5ms/step - loss: 1.0869 - accuracy: 0.7602 - val_loss: 1.1001 - val_accuracy: 0.7610\n",
            "Epoch 5/10\n",
            "365/365 [==============================] - 2s 6ms/step - loss: 1.0722 - accuracy: 0.7621 - val_loss: 1.0513 - val_accuracy: 0.7612\n",
            "Epoch 6/10\n",
            "365/365 [==============================] - 2s 5ms/step - loss: 1.0597 - accuracy: 0.7634 - val_loss: 1.0529 - val_accuracy: 0.7629\n",
            "Epoch 7/10\n",
            "365/365 [==============================] - 2s 6ms/step - loss: 1.0515 - accuracy: 0.7636 - val_loss: 1.0592 - val_accuracy: 0.7628\n",
            "Epoch 8/10\n",
            "365/365 [==============================] - 2s 6ms/step - loss: 1.0468 - accuracy: 0.7645 - val_loss: 1.0545 - val_accuracy: 0.7622\n",
            "Epoch 9/10\n",
            "365/365 [==============================] - 2s 6ms/step - loss: 1.0434 - accuracy: 0.7638 - val_loss: 1.0444 - val_accuracy: 0.7621\n",
            "Epoch 10/10\n",
            "365/365 [==============================] - 2s 6ms/step - loss: 1.0441 - accuracy: 0.7644 - val_loss: 1.0555 - val_accuracy: 0.7623\n"
          ]
        }
      ],
      "source": [
        "import math\n",
        "import pandas as pd\n",
        "import numpy as np\n",
        "from sklearn.model_selection import train_test_split\n",
        "from keras.models import Sequential\n",
        "from tensorflow.keras.optimizers import RMSprop\n",
        "from keras.layers import Dense\n",
        "from tensorflow.keras.optimizers import Adam\n",
        "from keras.callbacks import EarlyStopping\n",
        "\n",
        "def sind(x):\n",
        "    return math.sin(math.radians(x))\n",
        " \n",
        "def cosd(x):\n",
        "    return math.cos(math.radians(x))\n",
        "\n",
        "Px=[]\n",
        "Py=[]\n",
        "tt1=[]\n",
        "tt2=[]\n",
        "for i in range(-180,180,1):\n",
        "  for j in range(-90,90,1):\n",
        "    Px.append(50*cosd(i) + 40*cosd(i+j))\n",
        "    Py.append(50*sind(i) + 40*sind(i+j))\n",
        "    tt1.append(math.radians(i))\n",
        "    tt2.append(math.radians(j))\n",
        "\n",
        "data = pd.DataFrame(np.c_[tt1,tt2,Px,Py],columns=['tt1','tt2','Px','Py'])\n",
        "y = data.drop(['Px','Py'],axis=1)\n",
        "x = data.drop(['tt1','tt2'],axis=1)\n",
        "\n",
        "x_train,x_test,y_train,y_test = train_test_split(x,y,test_size=0.1)\n",
        "\n",
        "model = Sequential()\n",
        "model.add(Dense(512,activation='relu',input_shape=(2,)))\n",
        "model.add(Dense(256,activation='relu'))\n",
        "model.add(Dense(2))\n",
        "\n",
        "model.compile(loss='mse',optimizer='Adam',metrics=['accuracy'])\n",
        "history = model.fit(x_train,y_train,batch_size=128,epochs=10,verbose=1,validation_split=0.2)"
      ]
    },
    {
      "cell_type": "code",
      "source": [
        "data"
      ],
      "metadata": {
        "colab": {
          "base_uri": "https://localhost:8080/",
          "height": 424
        },
        "id": "6-05VsrabccS",
        "outputId": "ae25d47c-bcbb-427a-9e61-f47b6200d2e4"
      },
      "execution_count": 17,
      "outputs": [
        {
          "output_type": "execute_result",
          "data": {
            "text/plain": [
              "            tt1       tt2         Px         Py\n",
              "0     -3.141593 -1.570796 -50.000000  40.000000\n",
              "1     -3.141593 -1.553343 -50.698096  39.993908\n",
              "2     -3.141593 -1.535890 -51.395980  39.975633\n",
              "3     -3.141593 -1.518436 -52.093438  39.945181\n",
              "4     -3.141593 -1.500983 -52.790259  39.902562\n",
              "...         ...       ...        ...        ...\n",
              "64795  3.124139  1.483530 -54.173523 -38.908255\n",
              "64796  3.124139  1.500983 -53.478614 -38.975168\n",
              "64797  3.124139  1.518436 -52.782644 -39.029942\n",
              "64798  3.124139  1.535890 -52.085823 -39.072561\n",
              "64799  3.124139  1.553343 -51.388365 -39.103013\n",
              "\n",
              "[64800 rows x 4 columns]"
            ],
            "text/html": [
              "\n",
              "  <div id=\"df-a2cde570-1682-417a-8b40-2827f7cb7128\">\n",
              "    <div class=\"colab-df-container\">\n",
              "      <div>\n",
              "<style scoped>\n",
              "    .dataframe tbody tr th:only-of-type {\n",
              "        vertical-align: middle;\n",
              "    }\n",
              "\n",
              "    .dataframe tbody tr th {\n",
              "        vertical-align: top;\n",
              "    }\n",
              "\n",
              "    .dataframe thead th {\n",
              "        text-align: right;\n",
              "    }\n",
              "</style>\n",
              "<table border=\"1\" class=\"dataframe\">\n",
              "  <thead>\n",
              "    <tr style=\"text-align: right;\">\n",
              "      <th></th>\n",
              "      <th>tt1</th>\n",
              "      <th>tt2</th>\n",
              "      <th>Px</th>\n",
              "      <th>Py</th>\n",
              "    </tr>\n",
              "  </thead>\n",
              "  <tbody>\n",
              "    <tr>\n",
              "      <th>0</th>\n",
              "      <td>-3.141593</td>\n",
              "      <td>-1.570796</td>\n",
              "      <td>-50.000000</td>\n",
              "      <td>40.000000</td>\n",
              "    </tr>\n",
              "    <tr>\n",
              "      <th>1</th>\n",
              "      <td>-3.141593</td>\n",
              "      <td>-1.553343</td>\n",
              "      <td>-50.698096</td>\n",
              "      <td>39.993908</td>\n",
              "    </tr>\n",
              "    <tr>\n",
              "      <th>2</th>\n",
              "      <td>-3.141593</td>\n",
              "      <td>-1.535890</td>\n",
              "      <td>-51.395980</td>\n",
              "      <td>39.975633</td>\n",
              "    </tr>\n",
              "    <tr>\n",
              "      <th>3</th>\n",
              "      <td>-3.141593</td>\n",
              "      <td>-1.518436</td>\n",
              "      <td>-52.093438</td>\n",
              "      <td>39.945181</td>\n",
              "    </tr>\n",
              "    <tr>\n",
              "      <th>4</th>\n",
              "      <td>-3.141593</td>\n",
              "      <td>-1.500983</td>\n",
              "      <td>-52.790259</td>\n",
              "      <td>39.902562</td>\n",
              "    </tr>\n",
              "    <tr>\n",
              "      <th>...</th>\n",
              "      <td>...</td>\n",
              "      <td>...</td>\n",
              "      <td>...</td>\n",
              "      <td>...</td>\n",
              "    </tr>\n",
              "    <tr>\n",
              "      <th>64795</th>\n",
              "      <td>3.124139</td>\n",
              "      <td>1.483530</td>\n",
              "      <td>-54.173523</td>\n",
              "      <td>-38.908255</td>\n",
              "    </tr>\n",
              "    <tr>\n",
              "      <th>64796</th>\n",
              "      <td>3.124139</td>\n",
              "      <td>1.500983</td>\n",
              "      <td>-53.478614</td>\n",
              "      <td>-38.975168</td>\n",
              "    </tr>\n",
              "    <tr>\n",
              "      <th>64797</th>\n",
              "      <td>3.124139</td>\n",
              "      <td>1.518436</td>\n",
              "      <td>-52.782644</td>\n",
              "      <td>-39.029942</td>\n",
              "    </tr>\n",
              "    <tr>\n",
              "      <th>64798</th>\n",
              "      <td>3.124139</td>\n",
              "      <td>1.535890</td>\n",
              "      <td>-52.085823</td>\n",
              "      <td>-39.072561</td>\n",
              "    </tr>\n",
              "    <tr>\n",
              "      <th>64799</th>\n",
              "      <td>3.124139</td>\n",
              "      <td>1.553343</td>\n",
              "      <td>-51.388365</td>\n",
              "      <td>-39.103013</td>\n",
              "    </tr>\n",
              "  </tbody>\n",
              "</table>\n",
              "<p>64800 rows × 4 columns</p>\n",
              "</div>\n",
              "      <button class=\"colab-df-convert\" onclick=\"convertToInteractive('df-a2cde570-1682-417a-8b40-2827f7cb7128')\"\n",
              "              title=\"Convert this dataframe to an interactive table.\"\n",
              "              style=\"display:none;\">\n",
              "        \n",
              "  <svg xmlns=\"http://www.w3.org/2000/svg\" height=\"24px\"viewBox=\"0 0 24 24\"\n",
              "       width=\"24px\">\n",
              "    <path d=\"M0 0h24v24H0V0z\" fill=\"none\"/>\n",
              "    <path d=\"M18.56 5.44l.94 2.06.94-2.06 2.06-.94-2.06-.94-.94-2.06-.94 2.06-2.06.94zm-11 1L8.5 8.5l.94-2.06 2.06-.94-2.06-.94L8.5 2.5l-.94 2.06-2.06.94zm10 10l.94 2.06.94-2.06 2.06-.94-2.06-.94-.94-2.06-.94 2.06-2.06.94z\"/><path d=\"M17.41 7.96l-1.37-1.37c-.4-.4-.92-.59-1.43-.59-.52 0-1.04.2-1.43.59L10.3 9.45l-7.72 7.72c-.78.78-.78 2.05 0 2.83L4 21.41c.39.39.9.59 1.41.59.51 0 1.02-.2 1.41-.59l7.78-7.78 2.81-2.81c.8-.78.8-2.07 0-2.86zM5.41 20L4 18.59l7.72-7.72 1.47 1.35L5.41 20z\"/>\n",
              "  </svg>\n",
              "      </button>\n",
              "      \n",
              "  <style>\n",
              "    .colab-df-container {\n",
              "      display:flex;\n",
              "      flex-wrap:wrap;\n",
              "      gap: 12px;\n",
              "    }\n",
              "\n",
              "    .colab-df-convert {\n",
              "      background-color: #E8F0FE;\n",
              "      border: none;\n",
              "      border-radius: 50%;\n",
              "      cursor: pointer;\n",
              "      display: none;\n",
              "      fill: #1967D2;\n",
              "      height: 32px;\n",
              "      padding: 0 0 0 0;\n",
              "      width: 32px;\n",
              "    }\n",
              "\n",
              "    .colab-df-convert:hover {\n",
              "      background-color: #E2EBFA;\n",
              "      box-shadow: 0px 1px 2px rgba(60, 64, 67, 0.3), 0px 1px 3px 1px rgba(60, 64, 67, 0.15);\n",
              "      fill: #174EA6;\n",
              "    }\n",
              "\n",
              "    [theme=dark] .colab-df-convert {\n",
              "      background-color: #3B4455;\n",
              "      fill: #D2E3FC;\n",
              "    }\n",
              "\n",
              "    [theme=dark] .colab-df-convert:hover {\n",
              "      background-color: #434B5C;\n",
              "      box-shadow: 0px 1px 3px 1px rgba(0, 0, 0, 0.15);\n",
              "      filter: drop-shadow(0px 1px 2px rgba(0, 0, 0, 0.3));\n",
              "      fill: #FFFFFF;\n",
              "    }\n",
              "  </style>\n",
              "\n",
              "      <script>\n",
              "        const buttonEl =\n",
              "          document.querySelector('#df-a2cde570-1682-417a-8b40-2827f7cb7128 button.colab-df-convert');\n",
              "        buttonEl.style.display =\n",
              "          google.colab.kernel.accessAllowed ? 'block' : 'none';\n",
              "\n",
              "        async function convertToInteractive(key) {\n",
              "          const element = document.querySelector('#df-a2cde570-1682-417a-8b40-2827f7cb7128');\n",
              "          const dataTable =\n",
              "            await google.colab.kernel.invokeFunction('convertToInteractive',\n",
              "                                                     [key], {});\n",
              "          if (!dataTable) return;\n",
              "\n",
              "          const docLinkHtml = 'Like what you see? Visit the ' +\n",
              "            '<a target=\"_blank\" href=https://colab.research.google.com/notebooks/data_table.ipynb>data table notebook</a>'\n",
              "            + ' to learn more about interactive tables.';\n",
              "          element.innerHTML = '';\n",
              "          dataTable['output_type'] = 'display_data';\n",
              "          await google.colab.output.renderOutput(dataTable, element);\n",
              "          const docLink = document.createElement('div');\n",
              "          docLink.innerHTML = docLinkHtml;\n",
              "          element.appendChild(docLink);\n",
              "        }\n",
              "      </script>\n",
              "    </div>\n",
              "  </div>\n",
              "  "
            ]
          },
          "metadata": {},
          "execution_count": 17
        }
      ]
    },
    {
      "cell_type": "code",
      "source": [
        "model.summary()"
      ],
      "metadata": {
        "colab": {
          "base_uri": "https://localhost:8080/"
        },
        "id": "14WUqigfSAEW",
        "outputId": "05eb495f-ae3d-44c0-df44-85fcc284b5aa"
      },
      "execution_count": 18,
      "outputs": [
        {
          "output_type": "stream",
          "name": "stdout",
          "text": [
            "Model: \"sequential_8\"\n",
            "_________________________________________________________________\n",
            " Layer (type)                Output Shape              Param #   \n",
            "=================================================================\n",
            " dense_24 (Dense)            (None, 512)               1536      \n",
            "                                                                 \n",
            " dense_25 (Dense)            (None, 256)               131328    \n",
            "                                                                 \n",
            " dense_26 (Dense)            (None, 2)                 514       \n",
            "                                                                 \n",
            "=================================================================\n",
            "Total params: 133,378\n",
            "Trainable params: 133,378\n",
            "Non-trainable params: 0\n",
            "_________________________________________________________________\n"
          ]
        }
      ]
    },
    {
      "cell_type": "code",
      "source": [
        "score = model.evaluate(x_test,y_test,verbose=0)\n",
        "print('Sai số kiểm tra là: ',score[0])\n",
        "print('độ chính xác kiểm tra là: ',score[1])"
      ],
      "metadata": {
        "colab": {
          "base_uri": "https://localhost:8080/"
        },
        "id": "1vuv3frMMTGd",
        "outputId": "749b4c12-bd66-455b-b101-8f93e3d14d29"
      },
      "execution_count": 19,
      "outputs": [
        {
          "output_type": "stream",
          "name": "stdout",
          "text": [
            "Sai số kiểm tra là:  1.0654765367507935\n",
            "độ chính xác kiểm tra là:  0.7734568119049072\n"
          ]
        }
      ]
    },
    {
      "cell_type": "code",
      "source": [
        "model.predict(x_test)"
      ],
      "metadata": {
        "id": "1FILvc19R04L",
        "colab": {
          "base_uri": "https://localhost:8080/"
        },
        "outputId": "10a42a1a-4fc9-4342-cec8-8d6f6087a5a8"
      },
      "execution_count": 20,
      "outputs": [
        {
          "output_type": "execute_result",
          "data": {
            "text/plain": [
              "array([[-0.6334344 , -0.06582914],\n",
              "       [-0.8418598 , -0.00246134],\n",
              "       [ 1.7457814 ,  0.15748295],\n",
              "       ...,\n",
              "       [-0.03868834, -0.03960766],\n",
              "       [ 1.2798252 ,  0.10387373],\n",
              "       [ 2.131726  ,  0.11529595]], dtype=float32)"
            ]
          },
          "metadata": {},
          "execution_count": 20
        }
      ]
    },
    {
      "cell_type": "code",
      "source": [
        "y_test"
      ],
      "metadata": {
        "colab": {
          "base_uri": "https://localhost:8080/",
          "height": 424
        },
        "id": "vluwgF8aScjd",
        "outputId": "7285a4b2-937e-461c-a058-75935c98cd74"
      },
      "execution_count": 21,
      "outputs": [
        {
          "output_type": "execute_result",
          "data": {
            "text/plain": [
              "            tt1       tt2\n",
              "26554 -0.575959  0.069813\n",
              "17616 -1.448623  1.151917\n",
              "44016  1.117011  0.104720\n",
              "23114 -0.907571 -0.279253\n",
              "18137 -1.396263  0.820305\n",
              "...         ...       ...\n",
              "16862 -1.518436  0.558505\n",
              "20999 -1.117011  0.506145\n",
              "27683 -0.471239  0.925025\n",
              "40415  0.767945  0.087266\n",
              "63210  2.984513 -1.047198\n",
              "\n",
              "[6480 rows x 2 columns]"
            ],
            "text/html": [
              "\n",
              "  <div id=\"df-65845019-b35c-4cdd-bf90-51d50eca6ac1\">\n",
              "    <div class=\"colab-df-container\">\n",
              "      <div>\n",
              "<style scoped>\n",
              "    .dataframe tbody tr th:only-of-type {\n",
              "        vertical-align: middle;\n",
              "    }\n",
              "\n",
              "    .dataframe tbody tr th {\n",
              "        vertical-align: top;\n",
              "    }\n",
              "\n",
              "    .dataframe thead th {\n",
              "        text-align: right;\n",
              "    }\n",
              "</style>\n",
              "<table border=\"1\" class=\"dataframe\">\n",
              "  <thead>\n",
              "    <tr style=\"text-align: right;\">\n",
              "      <th></th>\n",
              "      <th>tt1</th>\n",
              "      <th>tt2</th>\n",
              "    </tr>\n",
              "  </thead>\n",
              "  <tbody>\n",
              "    <tr>\n",
              "      <th>26554</th>\n",
              "      <td>-0.575959</td>\n",
              "      <td>0.069813</td>\n",
              "    </tr>\n",
              "    <tr>\n",
              "      <th>17616</th>\n",
              "      <td>-1.448623</td>\n",
              "      <td>1.151917</td>\n",
              "    </tr>\n",
              "    <tr>\n",
              "      <th>44016</th>\n",
              "      <td>1.117011</td>\n",
              "      <td>0.104720</td>\n",
              "    </tr>\n",
              "    <tr>\n",
              "      <th>23114</th>\n",
              "      <td>-0.907571</td>\n",
              "      <td>-0.279253</td>\n",
              "    </tr>\n",
              "    <tr>\n",
              "      <th>18137</th>\n",
              "      <td>-1.396263</td>\n",
              "      <td>0.820305</td>\n",
              "    </tr>\n",
              "    <tr>\n",
              "      <th>...</th>\n",
              "      <td>...</td>\n",
              "      <td>...</td>\n",
              "    </tr>\n",
              "    <tr>\n",
              "      <th>16862</th>\n",
              "      <td>-1.518436</td>\n",
              "      <td>0.558505</td>\n",
              "    </tr>\n",
              "    <tr>\n",
              "      <th>20999</th>\n",
              "      <td>-1.117011</td>\n",
              "      <td>0.506145</td>\n",
              "    </tr>\n",
              "    <tr>\n",
              "      <th>27683</th>\n",
              "      <td>-0.471239</td>\n",
              "      <td>0.925025</td>\n",
              "    </tr>\n",
              "    <tr>\n",
              "      <th>40415</th>\n",
              "      <td>0.767945</td>\n",
              "      <td>0.087266</td>\n",
              "    </tr>\n",
              "    <tr>\n",
              "      <th>63210</th>\n",
              "      <td>2.984513</td>\n",
              "      <td>-1.047198</td>\n",
              "    </tr>\n",
              "  </tbody>\n",
              "</table>\n",
              "<p>6480 rows × 2 columns</p>\n",
              "</div>\n",
              "      <button class=\"colab-df-convert\" onclick=\"convertToInteractive('df-65845019-b35c-4cdd-bf90-51d50eca6ac1')\"\n",
              "              title=\"Convert this dataframe to an interactive table.\"\n",
              "              style=\"display:none;\">\n",
              "        \n",
              "  <svg xmlns=\"http://www.w3.org/2000/svg\" height=\"24px\"viewBox=\"0 0 24 24\"\n",
              "       width=\"24px\">\n",
              "    <path d=\"M0 0h24v24H0V0z\" fill=\"none\"/>\n",
              "    <path d=\"M18.56 5.44l.94 2.06.94-2.06 2.06-.94-2.06-.94-.94-2.06-.94 2.06-2.06.94zm-11 1L8.5 8.5l.94-2.06 2.06-.94-2.06-.94L8.5 2.5l-.94 2.06-2.06.94zm10 10l.94 2.06.94-2.06 2.06-.94-2.06-.94-.94-2.06-.94 2.06-2.06.94z\"/><path d=\"M17.41 7.96l-1.37-1.37c-.4-.4-.92-.59-1.43-.59-.52 0-1.04.2-1.43.59L10.3 9.45l-7.72 7.72c-.78.78-.78 2.05 0 2.83L4 21.41c.39.39.9.59 1.41.59.51 0 1.02-.2 1.41-.59l7.78-7.78 2.81-2.81c.8-.78.8-2.07 0-2.86zM5.41 20L4 18.59l7.72-7.72 1.47 1.35L5.41 20z\"/>\n",
              "  </svg>\n",
              "      </button>\n",
              "      \n",
              "  <style>\n",
              "    .colab-df-container {\n",
              "      display:flex;\n",
              "      flex-wrap:wrap;\n",
              "      gap: 12px;\n",
              "    }\n",
              "\n",
              "    .colab-df-convert {\n",
              "      background-color: #E8F0FE;\n",
              "      border: none;\n",
              "      border-radius: 50%;\n",
              "      cursor: pointer;\n",
              "      display: none;\n",
              "      fill: #1967D2;\n",
              "      height: 32px;\n",
              "      padding: 0 0 0 0;\n",
              "      width: 32px;\n",
              "    }\n",
              "\n",
              "    .colab-df-convert:hover {\n",
              "      background-color: #E2EBFA;\n",
              "      box-shadow: 0px 1px 2px rgba(60, 64, 67, 0.3), 0px 1px 3px 1px rgba(60, 64, 67, 0.15);\n",
              "      fill: #174EA6;\n",
              "    }\n",
              "\n",
              "    [theme=dark] .colab-df-convert {\n",
              "      background-color: #3B4455;\n",
              "      fill: #D2E3FC;\n",
              "    }\n",
              "\n",
              "    [theme=dark] .colab-df-convert:hover {\n",
              "      background-color: #434B5C;\n",
              "      box-shadow: 0px 1px 3px 1px rgba(0, 0, 0, 0.15);\n",
              "      filter: drop-shadow(0px 1px 2px rgba(0, 0, 0, 0.3));\n",
              "      fill: #FFFFFF;\n",
              "    }\n",
              "  </style>\n",
              "\n",
              "      <script>\n",
              "        const buttonEl =\n",
              "          document.querySelector('#df-65845019-b35c-4cdd-bf90-51d50eca6ac1 button.colab-df-convert');\n",
              "        buttonEl.style.display =\n",
              "          google.colab.kernel.accessAllowed ? 'block' : 'none';\n",
              "\n",
              "        async function convertToInteractive(key) {\n",
              "          const element = document.querySelector('#df-65845019-b35c-4cdd-bf90-51d50eca6ac1');\n",
              "          const dataTable =\n",
              "            await google.colab.kernel.invokeFunction('convertToInteractive',\n",
              "                                                     [key], {});\n",
              "          if (!dataTable) return;\n",
              "\n",
              "          const docLinkHtml = 'Like what you see? Visit the ' +\n",
              "            '<a target=\"_blank\" href=https://colab.research.google.com/notebooks/data_table.ipynb>data table notebook</a>'\n",
              "            + ' to learn more about interactive tables.';\n",
              "          element.innerHTML = '';\n",
              "          dataTable['output_type'] = 'display_data';\n",
              "          await google.colab.output.renderOutput(dataTable, element);\n",
              "          const docLink = document.createElement('div');\n",
              "          docLink.innerHTML = docLinkHtml;\n",
              "          element.appendChild(docLink);\n",
              "        }\n",
              "      </script>\n",
              "    </div>\n",
              "  </div>\n",
              "  "
            ]
          },
          "metadata": {},
          "execution_count": 21
        }
      ]
    },
    {
      "cell_type": "code",
      "source": [
        "from google.colab import drive\n",
        "drive.mount('/content/gdrive')"
      ],
      "metadata": {
        "id": "BYlsdS9GSqqh",
        "colab": {
          "base_uri": "https://localhost:8080/"
        },
        "outputId": "a3f13967-f7d9-4b67-a366-986a3237ea63"
      },
      "execution_count": 22,
      "outputs": [
        {
          "output_type": "stream",
          "name": "stdout",
          "text": [
            "Mounted at /content/gdrive\n"
          ]
        }
      ]
    },
    {
      "cell_type": "code",
      "source": [
        "model.save('/content/gdrive/MyDrive/AI/Robot_2.h5')"
      ],
      "metadata": {
        "id": "VYaZTaGOTTXO"
      },
      "execution_count": 23,
      "outputs": []
    },
    {
      "cell_type": "code",
      "source": [
        "from tensorflow import keras\n",
        "model = keras.models.load_model('/content/gdrive/MyDrive/AI/Robot_2.h5')"
      ],
      "metadata": {
        "id": "gKaAeQEcTTxb"
      },
      "execution_count": 24,
      "outputs": []
    },
    {
      "cell_type": "code",
      "source": [
        "import matplotlib.pyplot as plt\n",
        "plt.plot(history.history['accuracy'])\n",
        "plt.plot(history.history['val_accuracy'])\n",
        "plt.title('accuracy of robot_2 use ANN')\n",
        "plt.ylabel('accuracy')\n",
        "plt.xlabel('epoch')\n",
        "plt.legend(['train','validation'],loc='upper left')\n",
        "plt.show()"
      ],
      "metadata": {
        "id": "wvt6fxcogGaO",
        "colab": {
          "base_uri": "https://localhost:8080/",
          "height": 295
        },
        "outputId": "684d011c-a317-4aa3-fb8a-e0840a66a4c3"
      },
      "execution_count": 25,
      "outputs": [
        {
          "output_type": "display_data",
          "data": {
            "text/plain": [
              "<Figure size 432x288 with 1 Axes>"
            ],
            "image/png": "[encoded data removed]"
          },
          "metadata": {
            "needs_background": "light"
          }
        }
      ]
    },
    {
      "cell_type": "code",
      "source": [
        ""
      ],
      "metadata": {
        "id": "iYKOwljoa6a1"
      },
      "execution_count": null,
      "outputs": []
    }
  ]
}