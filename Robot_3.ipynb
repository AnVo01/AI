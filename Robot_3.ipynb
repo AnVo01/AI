{
  "nbformat": 4,
  "nbformat_minor": 0,
  "metadata": {
    "colab": {
      "name": "Robot_3.ipynb",
      "provenance": [],
      "collapsed_sections": [],
      "authorship_tag": "ABX9TyMo1fcTnoO/2H0CfXCxe9Ek",
      "include_colab_link": true
    },
    "kernelspec": {
      "name": "python3",
      "display_name": "Python 3"
    },
    "language_info": {
      "name": "python"
    }
  },
  "cells": [
    {
      "cell_type": "markdown",
      "metadata": {
        "id": "view-in-github",
        "colab_type": "text"
      },
      "source": [
        "<a href=\"https://colab.research.google.com/github/AnVo01/AI/blob/AI/Robot_3.ipynb\" target=\"_parent\"><img src=\"https://colab.research.google.com/assets/colab-badge.svg\" alt=\"Open In Colab\"/></a>"
      ]
    },
    {
      "cell_type": "code",
      "execution_count": 28,
      "metadata": {
        "colab": {
          "base_uri": "https://localhost:8080/"
        },
        "id": "JprehZD_sOtp",
        "outputId": "c11212a9-adae-42cc-beb3-c42a0947160a"
      },
      "outputs": [
        {
          "output_type": "stream",
          "name": "stdout",
          "text": [
            "Epoch 1/10\n",
            "203/203 [==============================] - 6s 25ms/step - loss: 23.1881 - accuracy: 0.6126 - val_loss: 0.2222 - val_accuracy: 0.8102\n",
            "Epoch 2/10\n",
            "203/203 [==============================] - 5s 24ms/step - loss: 0.2030 - accuracy: 0.8129 - val_loss: 0.1669 - val_accuracy: 0.8184\n",
            "Epoch 3/10\n",
            "203/203 [==============================] - 5s 24ms/step - loss: 0.1453 - accuracy: 0.8334 - val_loss: 0.1032 - val_accuracy: 0.8664\n",
            "Epoch 4/10\n",
            "203/203 [==============================] - 5s 24ms/step - loss: 0.1153 - accuracy: 0.8463 - val_loss: 0.1228 - val_accuracy: 0.8412\n",
            "Epoch 5/10\n",
            "203/203 [==============================] - 5s 24ms/step - loss: 0.1073 - accuracy: 0.8493 - val_loss: 0.0997 - val_accuracy: 0.8620\n",
            "Epoch 6/10\n",
            "203/203 [==============================] - 5s 24ms/step - loss: 0.1032 - accuracy: 0.8538 - val_loss: 0.0962 - val_accuracy: 0.8654\n",
            "Epoch 7/10\n",
            "203/203 [==============================] - 5s 24ms/step - loss: 0.1007 - accuracy: 0.8551 - val_loss: 0.0968 - val_accuracy: 0.8673\n",
            "Epoch 8/10\n",
            "203/203 [==============================] - 5s 24ms/step - loss: 0.0988 - accuracy: 0.8581 - val_loss: 0.0990 - val_accuracy: 0.8588\n",
            "Epoch 9/10\n",
            "203/203 [==============================] - 5s 24ms/step - loss: 0.0983 - accuracy: 0.8586 - val_loss: 0.0997 - val_accuracy: 0.8640\n",
            "Epoch 10/10\n",
            "203/203 [==============================] - 5s 24ms/step - loss: 0.0975 - accuracy: 0.8591 - val_loss: 0.0987 - val_accuracy: 0.8630\n"
          ]
        }
      ],
      "source": [
        "import math\n",
        "import pandas as pd\n",
        "import numpy as np\n",
        "from sklearn.model_selection import train_test_split\n",
        "from keras.models import Sequential\n",
        "from tensorflow.keras.optimizers import RMSprop\n",
        "from keras.layers import Dense\n",
        "from tensorflow.keras.optimizers import Adam\n",
        "\n",
        "def sind(x):\n",
        "    return math.sin(math.radians(x))\n",
        " \n",
        "def cosd(x):\n",
        "    return math.cos(math.radians(x))\n",
        "\n",
        "Px=[]\n",
        "Py=[]\n",
        "tt1=[]\n",
        "tt2=[]\n",
        "tt3=[]\n",
        "alpha=[]\n",
        "for phi in range(0,90,45):\n",
        "  for i in range(-90,90,1):\n",
        "    for j in range(-45,45,1):\n",
        "      k = phi - i - j\n",
        "      Px.append(50*cosd(i) + 40*cosd(i+j) +  20*cosd(i+j+k))\n",
        "      Py.append(50*sind(i) + 40*sind(i+j) + 20*sind(i+j+k))\n",
        "      tt1.append(math.radians(i))\n",
        "      tt2.append(math.radians(j))\n",
        "      tt3.append(math.radians(k))\n",
        "      alpha.append(math.radians(phi))\n",
        "\n",
        "data = pd.DataFrame(np.c_[tt1,tt2,tt3,alpha,Px,Py],columns=['tt1','tt2','tt3','phi','Px','Py'])\n",
        "y = data.drop(['Px','Py','phi'],axis=1)\n",
        "x = data.drop(['tt1','tt2','tt3'],axis=1)\n",
        "\n",
        "x_train,x_test,y_train,y_test = train_test_split(x,y,test_size=0.2)\n",
        "\n",
        "model = Sequential()\n",
        "model.add(Dense(1000,activation='relu',input_shape=(3,)))\n",
        "model.add(Dense(1000,activation='relu'))\n",
        "model.add(Dense(3))\n",
        "\n",
        "model.compile(loss='mse',optimizer=RMSprop(),metrics=['accuracy'])\n",
        "history = model.fit(x_train,y_train,batch_size=128,epochs=10,verbose=1,validation_data=(x_test,y_test))"
      ]
    },
    {
      "cell_type": "code",
      "source": [
        "model.summary()"
      ],
      "metadata": {
        "colab": {
          "base_uri": "https://localhost:8080/"
        },
        "id": "Lhn8t_Q8sSlE",
        "outputId": "58e05629-f250-4fba-f9a8-8159d0ae9056"
      },
      "execution_count": 29,
      "outputs": [
        {
          "output_type": "stream",
          "name": "stdout",
          "text": [
            "Model: \"sequential_19\"\n",
            "_________________________________________________________________\n",
            " Layer (type)                Output Shape              Param #   \n",
            "=================================================================\n",
            " dense_57 (Dense)            (None, 1000)              4000      \n",
            "                                                                 \n",
            " dense_58 (Dense)            (None, 1000)              1001000   \n",
            "                                                                 \n",
            " dense_59 (Dense)            (None, 3)                 3003      \n",
            "                                                                 \n",
            "=================================================================\n",
            "Total params: 1,008,003\n",
            "Trainable params: 1,008,003\n",
            "Non-trainable params: 0\n",
            "_________________________________________________________________\n"
          ]
        }
      ]
    },
    {
      "cell_type": "code",
      "source": [
        "score = model.evaluate(x_test,y_test,verbose=0)\n",
        "print('Sai số kiểm tra là: ',score[0])\n",
        "print('độ chính xác kiểm tra là: ',score[1])"
      ],
      "metadata": {
        "colab": {
          "base_uri": "https://localhost:8080/"
        },
        "id": "0vnKobcJ85V1",
        "outputId": "8166c407-de77-47b1-ec73-bcef5815934b"
      },
      "execution_count": 30,
      "outputs": [
        {
          "output_type": "stream",
          "name": "stdout",
          "text": [
            "Sai số kiểm tra là:  0.09865192323923111\n",
            "độ chính xác kiểm tra là:  0.8629629611968994\n"
          ]
        }
      ]
    },
    {
      "cell_type": "code",
      "source": [
        "data"
      ],
      "metadata": {
        "colab": {
          "base_uri": "https://localhost:8080/",
          "height": 424
        },
        "id": "qw9Q7B3Z87Fy",
        "outputId": "bd975e5d-3dc0-4eae-d1bb-70ed6d2b5825"
      },
      "execution_count": 31,
      "outputs": [
        {
          "output_type": "execute_result",
          "data": {
            "text/plain": [
              "            tt1       tt2       tt3       phi         Px         Py\n",
              "0     -1.570796 -0.785398  2.356194  0.000000  -8.284271 -78.284271\n",
              "1     -1.570796 -0.767945  2.338741  0.000000  -7.786335 -78.773592\n",
              "2     -1.570796 -0.750492  2.321288  0.000000  -7.279934 -79.254148\n",
              "3     -1.570796 -0.733038  2.303835  0.000000  -6.765224 -79.725793\n",
              "4     -1.570796 -0.715585  2.286381  0.000000  -6.242361 -80.188383\n",
              "...         ...       ...       ...       ...        ...        ...\n",
              "32395  1.553343  0.698132 -1.466077  0.785398 -10.158060  95.220359\n",
              "32396  1.553343  0.715585 -1.483530  0.785398 -10.696748  94.776298\n",
              "32397  1.553343  0.733038 -1.500983  0.785398 -11.227605  94.322904\n",
              "32398  1.553343  0.750492 -1.518436  0.785398 -11.750468  93.860313\n",
              "32399  1.553343  0.767945 -1.535890  0.785398 -12.265178  93.388668\n",
              "\n",
              "[32400 rows x 6 columns]"
            ],
            "text/html": [
              "\n",
              "  <div id=\"df-6ed3907b-515a-428a-b259-a2b79c48650e\">\n",
              "    <div class=\"colab-df-container\">\n",
              "      <div>\n",
              "<style scoped>\n",
              "    .dataframe tbody tr th:only-of-type {\n",
              "        vertical-align: middle;\n",
              "    }\n",
              "\n",
              "    .dataframe tbody tr th {\n",
              "        vertical-align: top;\n",
              "    }\n",
              "\n",
              "    .dataframe thead th {\n",
              "        text-align: right;\n",
              "    }\n",
              "</style>\n",
              "<table border=\"1\" class=\"dataframe\">\n",
              "  <thead>\n",
              "    <tr style=\"text-align: right;\">\n",
              "      <th></th>\n",
              "      <th>tt1</th>\n",
              "      <th>tt2</th>\n",
              "      <th>tt3</th>\n",
              "      <th>phi</th>\n",
              "      <th>Px</th>\n",
              "      <th>Py</th>\n",
              "    </tr>\n",
              "  </thead>\n",
              "  <tbody>\n",
              "    <tr>\n",
              "      <th>0</th>\n",
              "      <td>-1.570796</td>\n",
              "      <td>-0.785398</td>\n",
              "      <td>2.356194</td>\n",
              "      <td>0.000000</td>\n",
              "      <td>-8.284271</td>\n",
              "      <td>-78.284271</td>\n",
              "    </tr>\n",
              "    <tr>\n",
              "      <th>1</th>\n",
              "      <td>-1.570796</td>\n",
              "      <td>-0.767945</td>\n",
              "      <td>2.338741</td>\n",
              "      <td>0.000000</td>\n",
              "      <td>-7.786335</td>\n",
              "      <td>-78.773592</td>\n",
              "    </tr>\n",
              "    <tr>\n",
              "      <th>2</th>\n",
              "      <td>-1.570796</td>\n",
              "      <td>-0.750492</td>\n",
              "      <td>2.321288</td>\n",
              "      <td>0.000000</td>\n",
              "      <td>-7.279934</td>\n",
              "      <td>-79.254148</td>\n",
              "    </tr>\n",
              "    <tr>\n",
              "      <th>3</th>\n",
              "      <td>-1.570796</td>\n",
              "      <td>-0.733038</td>\n",
              "      <td>2.303835</td>\n",
              "      <td>0.000000</td>\n",
              "      <td>-6.765224</td>\n",
              "      <td>-79.725793</td>\n",
              "    </tr>\n",
              "    <tr>\n",
              "      <th>4</th>\n",
              "      <td>-1.570796</td>\n",
              "      <td>-0.715585</td>\n",
              "      <td>2.286381</td>\n",
              "      <td>0.000000</td>\n",
              "      <td>-6.242361</td>\n",
              "      <td>-80.188383</td>\n",
              "    </tr>\n",
              "    <tr>\n",
              "      <th>...</th>\n",
              "      <td>...</td>\n",
              "      <td>...</td>\n",
              "      <td>...</td>\n",
              "      <td>...</td>\n",
              "      <td>...</td>\n",
              "      <td>...</td>\n",
              "    </tr>\n",
              "    <tr>\n",
              "      <th>32395</th>\n",
              "      <td>1.553343</td>\n",
              "      <td>0.698132</td>\n",
              "      <td>-1.466077</td>\n",
              "      <td>0.785398</td>\n",
              "      <td>-10.158060</td>\n",
              "      <td>95.220359</td>\n",
              "    </tr>\n",
              "    <tr>\n",
              "      <th>32396</th>\n",
              "      <td>1.553343</td>\n",
              "      <td>0.715585</td>\n",
              "      <td>-1.483530</td>\n",
              "      <td>0.785398</td>\n",
              "      <td>-10.696748</td>\n",
              "      <td>94.776298</td>\n",
              "    </tr>\n",
              "    <tr>\n",
              "      <th>32397</th>\n",
              "      <td>1.553343</td>\n",
              "      <td>0.733038</td>\n",
              "      <td>-1.500983</td>\n",
              "      <td>0.785398</td>\n",
              "      <td>-11.227605</td>\n",
              "      <td>94.322904</td>\n",
              "    </tr>\n",
              "    <tr>\n",
              "      <th>32398</th>\n",
              "      <td>1.553343</td>\n",
              "      <td>0.750492</td>\n",
              "      <td>-1.518436</td>\n",
              "      <td>0.785398</td>\n",
              "      <td>-11.750468</td>\n",
              "      <td>93.860313</td>\n",
              "    </tr>\n",
              "    <tr>\n",
              "      <th>32399</th>\n",
              "      <td>1.553343</td>\n",
              "      <td>0.767945</td>\n",
              "      <td>-1.535890</td>\n",
              "      <td>0.785398</td>\n",
              "      <td>-12.265178</td>\n",
              "      <td>93.388668</td>\n",
              "    </tr>\n",
              "  </tbody>\n",
              "</table>\n",
              "<p>32400 rows × 6 columns</p>\n",
              "</div>\n",
              "      <button class=\"colab-df-convert\" onclick=\"convertToInteractive('df-6ed3907b-515a-428a-b259-a2b79c48650e')\"\n",
              "              title=\"Convert this dataframe to an interactive table.\"\n",
              "              style=\"display:none;\">\n",
              "        \n",
              "  <svg xmlns=\"http://www.w3.org/2000/svg\" height=\"24px\"viewBox=\"0 0 24 24\"\n",
              "       width=\"24px\">\n",
              "    <path d=\"M0 0h24v24H0V0z\" fill=\"none\"/>\n",
              "    <path d=\"M18.56 5.44l.94 2.06.94-2.06 2.06-.94-2.06-.94-.94-2.06-.94 2.06-2.06.94zm-11 1L8.5 8.5l.94-2.06 2.06-.94-2.06-.94L8.5 2.5l-.94 2.06-2.06.94zm10 10l.94 2.06.94-2.06 2.06-.94-2.06-.94-.94-2.06-.94 2.06-2.06.94z\"/><path d=\"M17.41 7.96l-1.37-1.37c-.4-.4-.92-.59-1.43-.59-.52 0-1.04.2-1.43.59L10.3 9.45l-7.72 7.72c-.78.78-.78 2.05 0 2.83L4 21.41c.39.39.9.59 1.41.59.51 0 1.02-.2 1.41-.59l7.78-7.78 2.81-2.81c.8-.78.8-2.07 0-2.86zM5.41 20L4 18.59l7.72-7.72 1.47 1.35L5.41 20z\"/>\n",
              "  </svg>\n",
              "      </button>\n",
              "      \n",
              "  <style>\n",
              "    .colab-df-container {\n",
              "      display:flex;\n",
              "      flex-wrap:wrap;\n",
              "      gap: 12px;\n",
              "    }\n",
              "\n",
              "    .colab-df-convert {\n",
              "      background-color: #E8F0FE;\n",
              "      border: none;\n",
              "      border-radius: 50%;\n",
              "      cursor: pointer;\n",
              "      display: none;\n",
              "      fill: #1967D2;\n",
              "      height: 32px;\n",
              "      padding: 0 0 0 0;\n",
              "      width: 32px;\n",
              "    }\n",
              "\n",
              "    .colab-df-convert:hover {\n",
              "      background-color: #E2EBFA;\n",
              "      box-shadow: 0px 1px 2px rgba(60, 64, 67, 0.3), 0px 1px 3px 1px rgba(60, 64, 67, 0.15);\n",
              "      fill: #174EA6;\n",
              "    }\n",
              "\n",
              "    [theme=dark] .colab-df-convert {\n",
              "      background-color: #3B4455;\n",
              "      fill: #D2E3FC;\n",
              "    }\n",
              "\n",
              "    [theme=dark] .colab-df-convert:hover {\n",
              "      background-color: #434B5C;\n",
              "      box-shadow: 0px 1px 3px 1px rgba(0, 0, 0, 0.15);\n",
              "      filter: drop-shadow(0px 1px 2px rgba(0, 0, 0, 0.3));\n",
              "      fill: #FFFFFF;\n",
              "    }\n",
              "  </style>\n",
              "\n",
              "      <script>\n",
              "        const buttonEl =\n",
              "          document.querySelector('#df-6ed3907b-515a-428a-b259-a2b79c48650e button.colab-df-convert');\n",
              "        buttonEl.style.display =\n",
              "          google.colab.kernel.accessAllowed ? 'block' : 'none';\n",
              "\n",
              "        async function convertToInteractive(key) {\n",
              "          const element = document.querySelector('#df-6ed3907b-515a-428a-b259-a2b79c48650e');\n",
              "          const dataTable =\n",
              "            await google.colab.kernel.invokeFunction('convertToInteractive',\n",
              "                                                     [key], {});\n",
              "          if (!dataTable) return;\n",
              "\n",
              "          const docLinkHtml = 'Like what you see? Visit the ' +\n",
              "            '<a target=\"_blank\" href=https://colab.research.google.com/notebooks/data_table.ipynb>data table notebook</a>'\n",
              "            + ' to learn more about interactive tables.';\n",
              "          element.innerHTML = '';\n",
              "          dataTable['output_type'] = 'display_data';\n",
              "          await google.colab.output.renderOutput(dataTable, element);\n",
              "          const docLink = document.createElement('div');\n",
              "          docLink.innerHTML = docLinkHtml;\n",
              "          element.appendChild(docLink);\n",
              "        }\n",
              "      </script>\n",
              "    </div>\n",
              "  </div>\n",
              "  "
            ]
          },
          "metadata": {},
          "execution_count": 31
        }
      ]
    },
    {
      "cell_type": "code",
      "source": [
        "model.predict(x_test)"
      ],
      "metadata": {
        "colab": {
          "base_uri": "https://localhost:8080/"
        },
        "id": "BGX-a4oa8_NR",
        "outputId": "3373045f-8967-4120-8a9e-6108227e49f7"
      },
      "execution_count": 32,
      "outputs": [
        {
          "output_type": "execute_result",
          "data": {
            "text/plain": [
              "array([[ 1.1066666e+00, -1.0219090e-01, -1.2359178e-01],\n",
              "       [-4.2937341e-01, -4.9704224e-02,  1.2741268e+00],\n",
              "       [ 5.9860438e-02,  6.7513436e-04, -1.0500708e-01],\n",
              "       ...,\n",
              "       [ 5.8806372e-01, -8.2705030e-03, -6.0704321e-01],\n",
              "       [ 4.4405505e-01, -5.9542734e-02,  4.2296380e-01],\n",
              "       [-1.2237518e-01, -1.2920811e-02,  1.0730648e-01]], dtype=float32)"
            ]
          },
          "metadata": {},
          "execution_count": 32
        }
      ]
    },
    {
      "cell_type": "code",
      "source": [
        "y_test"
      ],
      "metadata": {
        "colab": {
          "base_uri": "https://localhost:8080/",
          "height": 424
        },
        "id": "ctKqtKDm9E5z",
        "outputId": "40db30f8-ee8f-4d4e-c832-d3f0750cdf54"
      },
      "execution_count": 33,
      "outputs": [
        {
          "output_type": "execute_result",
          "data": {
            "text/plain": [
              "            tt1       tt2       tt3\n",
              "29562  1.012291 -0.052360 -0.174533\n",
              "23051 -0.244346 -0.593412  1.623156\n",
              "7889  -0.052360  0.244346 -0.191986\n",
              "23604 -0.139626 -0.366519  1.291544\n",
              "6922  -0.244346  0.645772 -0.401426\n",
              "...         ...       ...       ...\n",
              "31568  1.396263  0.401426 -1.012291\n",
              "4711  -0.663225 -0.244346  0.907571\n",
              "9621   0.279253  0.628319 -0.907571\n",
              "26764  0.471239 -0.191986  0.506145\n",
              "7864  -0.052360 -0.191986  0.244346\n",
              "\n",
              "[6480 rows x 3 columns]"
            ],
            "text/html": [
              "\n",
              "  <div id=\"df-5703d48b-bf3d-4464-a62f-33562971a92f\">\n",
              "    <div class=\"colab-df-container\">\n",
              "      <div>\n",
              "<style scoped>\n",
              "    .dataframe tbody tr th:only-of-type {\n",
              "        vertical-align: middle;\n",
              "    }\n",
              "\n",
              "    .dataframe tbody tr th {\n",
              "        vertical-align: top;\n",
              "    }\n",
              "\n",
              "    .dataframe thead th {\n",
              "        text-align: right;\n",
              "    }\n",
              "</style>\n",
              "<table border=\"1\" class=\"dataframe\">\n",
              "  <thead>\n",
              "    <tr style=\"text-align: right;\">\n",
              "      <th></th>\n",
              "      <th>tt1</th>\n",
              "      <th>tt2</th>\n",
              "      <th>tt3</th>\n",
              "    </tr>\n",
              "  </thead>\n",
              "  <tbody>\n",
              "    <tr>\n",
              "      <th>29562</th>\n",
              "      <td>1.012291</td>\n",
              "      <td>-0.052360</td>\n",
              "      <td>-0.174533</td>\n",
              "    </tr>\n",
              "    <tr>\n",
              "      <th>23051</th>\n",
              "      <td>-0.244346</td>\n",
              "      <td>-0.593412</td>\n",
              "      <td>1.623156</td>\n",
              "    </tr>\n",
              "    <tr>\n",
              "      <th>7889</th>\n",
              "      <td>-0.052360</td>\n",
              "      <td>0.244346</td>\n",
              "      <td>-0.191986</td>\n",
              "    </tr>\n",
              "    <tr>\n",
              "      <th>23604</th>\n",
              "      <td>-0.139626</td>\n",
              "      <td>-0.366519</td>\n",
              "      <td>1.291544</td>\n",
              "    </tr>\n",
              "    <tr>\n",
              "      <th>6922</th>\n",
              "      <td>-0.244346</td>\n",
              "      <td>0.645772</td>\n",
              "      <td>-0.401426</td>\n",
              "    </tr>\n",
              "    <tr>\n",
              "      <th>...</th>\n",
              "      <td>...</td>\n",
              "      <td>...</td>\n",
              "      <td>...</td>\n",
              "    </tr>\n",
              "    <tr>\n",
              "      <th>31568</th>\n",
              "      <td>1.396263</td>\n",
              "      <td>0.401426</td>\n",
              "      <td>-1.012291</td>\n",
              "    </tr>\n",
              "    <tr>\n",
              "      <th>4711</th>\n",
              "      <td>-0.663225</td>\n",
              "      <td>-0.244346</td>\n",
              "      <td>0.907571</td>\n",
              "    </tr>\n",
              "    <tr>\n",
              "      <th>9621</th>\n",
              "      <td>0.279253</td>\n",
              "      <td>0.628319</td>\n",
              "      <td>-0.907571</td>\n",
              "    </tr>\n",
              "    <tr>\n",
              "      <th>26764</th>\n",
              "      <td>0.471239</td>\n",
              "      <td>-0.191986</td>\n",
              "      <td>0.506145</td>\n",
              "    </tr>\n",
              "    <tr>\n",
              "      <th>7864</th>\n",
              "      <td>-0.052360</td>\n",
              "      <td>-0.191986</td>\n",
              "      <td>0.244346</td>\n",
              "    </tr>\n",
              "  </tbody>\n",
              "</table>\n",
              "<p>6480 rows × 3 columns</p>\n",
              "</div>\n",
              "      <button class=\"colab-df-convert\" onclick=\"convertToInteractive('df-5703d48b-bf3d-4464-a62f-33562971a92f')\"\n",
              "              title=\"Convert this dataframe to an interactive table.\"\n",
              "              style=\"display:none;\">\n",
              "        \n",
              "  <svg xmlns=\"http://www.w3.org/2000/svg\" height=\"24px\"viewBox=\"0 0 24 24\"\n",
              "       width=\"24px\">\n",
              "    <path d=\"M0 0h24v24H0V0z\" fill=\"none\"/>\n",
              "    <path d=\"M18.56 5.44l.94 2.06.94-2.06 2.06-.94-2.06-.94-.94-2.06-.94 2.06-2.06.94zm-11 1L8.5 8.5l.94-2.06 2.06-.94-2.06-.94L8.5 2.5l-.94 2.06-2.06.94zm10 10l.94 2.06.94-2.06 2.06-.94-2.06-.94-.94-2.06-.94 2.06-2.06.94z\"/><path d=\"M17.41 7.96l-1.37-1.37c-.4-.4-.92-.59-1.43-.59-.52 0-1.04.2-1.43.59L10.3 9.45l-7.72 7.72c-.78.78-.78 2.05 0 2.83L4 21.41c.39.39.9.59 1.41.59.51 0 1.02-.2 1.41-.59l7.78-7.78 2.81-2.81c.8-.78.8-2.07 0-2.86zM5.41 20L4 18.59l7.72-7.72 1.47 1.35L5.41 20z\"/>\n",
              "  </svg>\n",
              "      </button>\n",
              "      \n",
              "  <style>\n",
              "    .colab-df-container {\n",
              "      display:flex;\n",
              "      flex-wrap:wrap;\n",
              "      gap: 12px;\n",
              "    }\n",
              "\n",
              "    .colab-df-convert {\n",
              "      background-color: #E8F0FE;\n",
              "      border: none;\n",
              "      border-radius: 50%;\n",
              "      cursor: pointer;\n",
              "      display: none;\n",
              "      fill: #1967D2;\n",
              "      height: 32px;\n",
              "      padding: 0 0 0 0;\n",
              "      width: 32px;\n",
              "    }\n",
              "\n",
              "    .colab-df-convert:hover {\n",
              "      background-color: #E2EBFA;\n",
              "      box-shadow: 0px 1px 2px rgba(60, 64, 67, 0.3), 0px 1px 3px 1px rgba(60, 64, 67, 0.15);\n",
              "      fill: #174EA6;\n",
              "    }\n",
              "\n",
              "    [theme=dark] .colab-df-convert {\n",
              "      background-color: #3B4455;\n",
              "      fill: #D2E3FC;\n",
              "    }\n",
              "\n",
              "    [theme=dark] .colab-df-convert:hover {\n",
              "      background-color: #434B5C;\n",
              "      box-shadow: 0px 1px 3px 1px rgba(0, 0, 0, 0.15);\n",
              "      filter: drop-shadow(0px 1px 2px rgba(0, 0, 0, 0.3));\n",
              "      fill: #FFFFFF;\n",
              "    }\n",
              "  </style>\n",
              "\n",
              "      <script>\n",
              "        const buttonEl =\n",
              "          document.querySelector('#df-5703d48b-bf3d-4464-a62f-33562971a92f button.colab-df-convert');\n",
              "        buttonEl.style.display =\n",
              "          google.colab.kernel.accessAllowed ? 'block' : 'none';\n",
              "\n",
              "        async function convertToInteractive(key) {\n",
              "          const element = document.querySelector('#df-5703d48b-bf3d-4464-a62f-33562971a92f');\n",
              "          const dataTable =\n",
              "            await google.colab.kernel.invokeFunction('convertToInteractive',\n",
              "                                                     [key], {});\n",
              "          if (!dataTable) return;\n",
              "\n",
              "          const docLinkHtml = 'Like what you see? Visit the ' +\n",
              "            '<a target=\"_blank\" href=https://colab.research.google.com/notebooks/data_table.ipynb>data table notebook</a>'\n",
              "            + ' to learn more about interactive tables.';\n",
              "          element.innerHTML = '';\n",
              "          dataTable['output_type'] = 'display_data';\n",
              "          await google.colab.output.renderOutput(dataTable, element);\n",
              "          const docLink = document.createElement('div');\n",
              "          docLink.innerHTML = docLinkHtml;\n",
              "          element.appendChild(docLink);\n",
              "        }\n",
              "      </script>\n",
              "    </div>\n",
              "  </div>\n",
              "  "
            ]
          },
          "metadata": {},
          "execution_count": 33
        }
      ]
    },
    {
      "cell_type": "code",
      "source": [
        "from google.colab import drive\n",
        "drive.mount('/content/gdrive')"
      ],
      "metadata": {
        "colab": {
          "base_uri": "https://localhost:8080/"
        },
        "id": "LDttoWyN9Har",
        "outputId": "50cab378-7af8-472d-eef7-20edaad22451"
      },
      "execution_count": 34,
      "outputs": [
        {
          "output_type": "stream",
          "name": "stdout",
          "text": [
            "Mounted at /content/gdrive\n"
          ]
        }
      ]
    },
    {
      "cell_type": "code",
      "source": [
        "model.save('/content/gdrive/MyDrive/AI/Robot_2.h5')\n"
      ],
      "metadata": {
        "id": "9ntEBO7q9O-y"
      },
      "execution_count": null,
      "outputs": []
    },
    {
      "cell_type": "code",
      "source": [
        "from tensorflow import keras\n",
        "model = keras.models.load_model('/content/gdrive/MyDrive/AI/Robot_2.h5')"
      ],
      "metadata": {
        "id": "dDqTuAYOeXm7"
      },
      "execution_count": 35,
      "outputs": []
    },
    {
      "cell_type": "code",
      "source": [
        "import matplotlib.pyplot as plt\n",
        "plt.plot(history.history['accuracy'])\n",
        "plt.plot(history.history['val_accuracy'])\n",
        "plt.title('accuracy of robot_3 use ANN')\n",
        "plt.ylabel('accuracy')\n",
        "plt.xlabel('epoch')\n",
        "plt.legend(['train','validation'],loc='upper left')\n",
        "plt.show()"
      ],
      "metadata": {
        "colab": {
          "base_uri": "https://localhost:8080/",
          "height": 295
        },
        "id": "fQI5OwmdE4G2",
        "outputId": "3478ab7d-b055-4daa-9b1f-d5c9682af1ec"
      },
      "execution_count": 36,
      "outputs": [
        {
          "output_type": "display_data",
          "data": {
            "text/plain": [
              "<Figure size 432x288 with 1 Axes>"
            ],
            "image/png": "[encoded data removed]"
          },
          "metadata": {
            "needs_background": "light"
          }
        }
      ]
    },
    {
      "cell_type": "code",
      "source": [
        ""
      ],
      "metadata": {
        "id": "M6B9O2i7FBCl"
      },
      "execution_count": null,
      "outputs": []
    }
  ]
}